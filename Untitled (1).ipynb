{
 "cells": [
  {
   "cell_type": "code",
   "execution_count": null,
   "id": "62f8e822-76c2-4ec4-a5d1-265642f30f0b",
   "metadata": {},
   "outputs": [
    {
     "name": "stdout",
     "output_type": "stream",
     "text": [
      "\n",
      "1. Add Employee\n",
      "2. Display Employees\n",
      "3. Search Employee\n",
      "4. Exit\n"
     ]
    },
    {
     "name": "stdin",
     "output_type": "stream",
     "text": [
      "Enter choice:  1\n",
      "Enter employee name:  sameer chaudhary\n",
      "Enter employee ID:  bca\n",
      "Enter department:  dsai\n",
      "Enter salary:  50000\n"
     ]
    },
    {
     "name": "stdout",
     "output_type": "stream",
     "text": [
      "\n",
      "1. Add Employee\n",
      "2. Display Employees\n",
      "3. Search Employee\n",
      "4. Exit\n"
     ]
    },
    {
     "name": "stdin",
     "output_type": "stream",
     "text": [
      "Enter choice:  1\n",
      "Enter employee name:  prem\n",
      "Enter employee ID:  dsa\n",
      "Enter department:  cf\n",
      "Enter salary:  10000\n"
     ]
    },
    {
     "name": "stdout",
     "output_type": "stream",
     "text": [
      "\n",
      "1. Add Employee\n",
      "2. Display Employees\n",
      "3. Search Employee\n",
      "4. Exit\n"
     ]
    },
    {
     "name": "stdin",
     "output_type": "stream",
     "text": [
      "Enter choice:  3\n",
      "Enter name or ID to search:  sameer chaudhary\n"
     ]
    },
    {
     "name": "stdout",
     "output_type": "stream",
     "text": [
      "Found: ID: bca | Name: sameer chaudhary | Dept: dsai | Salary: 50000\n",
      "\n",
      "1. Add Employee\n",
      "2. Display Employees\n",
      "3. Search Employee\n",
      "4. Exit\n"
     ]
    },
    {
     "name": "stdin",
     "output_type": "stream",
     "text": [
      "Enter choice:  2\n"
     ]
    },
    {
     "name": "stdout",
     "output_type": "stream",
     "text": [
      "ID: bca | Name: sameer chaudhary | Dept: dsai | Salary: 50000\n",
      "ID: dsa | Name: prem | Dept: cf | Salary: 10000\n",
      "\n",
      "1. Add Employee\n",
      "2. Display Employees\n",
      "3. Search Employee\n",
      "4. Exit\n"
     ]
    }
   ],
   "source": [
    "employees = []\n",
    "\n",
    "def add_employee():\n",
    "    name = input(\"Enter employee name: \")\n",
    "    emp_id = input(\"Enter employee ID: \")\n",
    "    dept = input(\"Enter department: \")\n",
    "    salary = input(\"Enter salary: \")\n",
    "    emp_string = f\"ID: {emp_id} | Name: {name} | Dept: {dept} | Salary: {salary}\"\n",
    "    employees.append(emp_string)\n",
    "\n",
    "def display_employees():\n",
    "    for emp in employees:\n",
    "        print(emp)\n",
    "\n",
    "def search_employee():\n",
    "    key = input(\"Enter name or ID to search: \").lower()\n",
    "    found = False\n",
    "    for emp in employees:\n",
    "        if key in emp.lower():\n",
    "            print(\"Found:\", emp)\n",
    "            found = True\n",
    "    if not found:\n",
    "        print(\"Employee not found.\")\n",
    "\n",
    "while True:\n",
    "    print(\"\\n1. Add Employee\\n2. Display Employees\\n3. Search Employee\\n4. Exit\")\n",
    "    choice = input(\"Enter choice: \")\n",
    "    if choice == \"1\":\n",
    "        add_employee()\n",
    "    elif choice == \"2\":\n",
    "        display_employees()\n",
    "    elif choice == \"3\":\n",
    "        search_employee()\n",
    "    elif choice == \"4\":\n",
    "        break\n",
    "    else:\n",
    "        print(\"Invalid choice. Try again.\")"
   ]
  },
  {
   "cell_type": "code",
   "execution_count": null,
   "id": "946c3f0e-227e-475d-a26d-c00e7b8abc3c",
   "metadata": {},
   "outputs": [],
   "source": []
  }
 ],
 "metadata": {
  "kernelspec": {
   "display_name": "Python 3 (ipykernel)",
   "language": "python",
   "name": "python3"
  },
  "language_info": {
   "codemirror_mode": {
    "name": "ipython",
    "version": 3
   },
   "file_extension": ".py",
   "mimetype": "text/x-python",
   "name": "python",
   "nbconvert_exporter": "python",
   "pygments_lexer": "ipython3",
   "version": "3.13.5"
  }
 },
 "nbformat": 4,
 "nbformat_minor": 5
}
